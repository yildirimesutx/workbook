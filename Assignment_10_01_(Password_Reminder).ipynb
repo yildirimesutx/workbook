{
  "nbformat": 4,
  "nbformat_minor": 0,
  "metadata": {
    "colab": {
      "name": "Assignment - 10/01 (Password Reminder).ipynb",
      "provenance": [],
      "collapsed_sections": []
    },
    "kernelspec": {
      "name": "python3",
      "display_name": "Python 3"
    },
    "language_info": {
      "name": "python"
    }
  },
  "cells": [
    {
      "cell_type": "code",
      "metadata": {
        "colab": {
          "base_uri": "https://localhost:8080/"
        },
        "id": "WGcVR-SSan2a",
        "outputId": "7ed77afe-a512-4f0a-b84e-a75ca3ea3a26"
      },
      "source": [
        "your_name = input(\"Enter your name: \")\n",
        "\n",
        "name = \"Mesut\"\n",
        "\n",
        "password_key = 123456\n",
        "\n",
        "if your_name == name :\n",
        "   print(f\"Hello, {your_name} The password: 123456\")\n",
        "else:\n",
        "  print(f\"Hello, {your_name} See you later...\")"
      ],
      "execution_count": 7,
      "outputs": [
        {
          "output_type": "stream",
          "name": "stdout",
          "text": [
            "Enter your name: Mesut\n",
            "Hello, Mesut The password: 123456\n"
          ]
        }
      ]
    },
    {
      "cell_type": "code",
      "metadata": {
        "id": "nA7zSWIWcP9d"
      },
      "source": [
        ""
      ],
      "execution_count": null,
      "outputs": []
    }
  ]
}