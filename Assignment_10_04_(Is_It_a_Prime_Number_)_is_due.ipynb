{
  "nbformat": 4,
  "nbformat_minor": 0,
  "metadata": {
    "colab": {
      "name": "Assignment - 10/04 (Is It a Prime Number?) is due.ipynb",
      "provenance": [],
      "collapsed_sections": []
    },
    "kernelspec": {
      "name": "python3",
      "display_name": "Python 3"
    },
    "language_info": {
      "name": "python"
    }
  },
  "cells": [
    {
      "cell_type": "code",
      "metadata": {
        "id": "CPTRGT5a6W_P"
      },
      "source": [
        "n = int(input(\"enter a number: \"))\n",
        "\n",
        "counter = 0\n",
        "\n",
        "for i in range(1, n+1):\n",
        "   if n % i == 0 :\n",
        "      counter += 1\n",
        "\n",
        "if (n==0) or (n==1) or (counter >= 3) :\n",
        "    print(n, \"is not a Prime number\")\n",
        "\n",
        "else :\n",
        "  print(n, \"is a Prime number\")"
      ],
      "execution_count": null,
      "outputs": []
    }
  ]
}