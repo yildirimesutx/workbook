{
 "cells": [
  {
   "cell_type": "code",
   "execution_count": 28,
   "id": "50c6f8fd",
   "metadata": {},
   "outputs": [
    {
     "name": "stdout",
     "output_type": "stream",
     "text": [
      "Enter a number: 352\n",
      "352 is not an Armstrong\n"
     ]
    }
   ],
   "source": [
    "\n",
    "\n",
    "number = input(\"Enter a number: \")\n",
    "\n",
    "counter = 0\n",
    "\n",
    "if number.isnumeric():\n",
    "    for i in number:\n",
    "        i = int(i)\n",
    "        counter = counter + i**len(number)\n",
    "    if number == counter :   \n",
    "        print(f\"{number} is an Armstrong\")\n",
    "        \n",
    "    else :\n",
    "        print(f\"{number} is not an Armstrong\")\n",
    "        \n",
    "elif not number.isnumeric():\n",
    "    print(\"It is an invalid entry. Don't use non-numeric, float, or negative values!\")\n",
    "\n",
    "\n",
    "\n",
    "\n",
    "\n",
    "  \n",
    "\n"
   ]
  }
 ],
 "metadata": {
  "kernelspec": {
   "display_name": "Python 3 (ipykernel)",
   "language": "python",
   "name": "python3"
  },
  "language_info": {
   "codemirror_mode": {
    "name": "ipython",
    "version": 3
   },
   "file_extension": ".py",
   "mimetype": "text/x-python",
   "name": "python",
   "nbconvert_exporter": "python",
   "pygments_lexer": "ipython3",
   "version": "3.9.7"
  }
 },
 "nbformat": 4,
 "nbformat_minor": 5
}
